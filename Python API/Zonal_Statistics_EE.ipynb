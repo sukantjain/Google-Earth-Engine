{
 "cells": [
  {
   "cell_type": "markdown",
   "metadata": {
    "id": "_h_4eYHiKkRY"
   },
   "source": [
    "# **Zonal Statitics using Earth Engine**\n",
    "\n",
    ">\n",
    "\n",
    "> This script will perform Zonal Statistics of multiple locations in feature collection from Image Collections in Google Earth Engine by using two diffrent methods i.e. using for loop and without using for loop\n",
    "\n",
    "\n",
    "The data used here are:-\n",
    "Image Collections - *Chirps daily rainfall dataset*\n",
    "Feature Collections - *Districts Boundary of Budelkhand Region in India*"
   ]
  },
  {
   "cell_type": "code",
   "execution_count": null,
   "metadata": {
    "id": "X7b4aCJPIT3A"
   },
   "outputs": [],
   "source": [
    "import ee\n",
    "#ee.Authenticate()\n",
    "ee.Initialize()\n"
   ]
  },
  {
   "cell_type": "code",
   "execution_count": null,
   "metadata": {
    "id": "H6EQbUUbIU3I"
   },
   "outputs": [],
   "source": [
    "# Importing Necessary  Libraries\n",
    "\n",
    "import pandas as pd\n",
    "import datetime\n",
    "import plotly.express as px"
   ]
  },
  {
   "cell_type": "code",
   "execution_count": null,
   "metadata": {
    "id": "d-cp88wtDTy9"
   },
   "outputs": [],
   "source": [
    "# Zonal Statistics using for loop\n",
    "\n",
    "t1 = datetime.datetime.now() \n",
    "\n",
    "firstDate = '2011-07-01'\n",
    "lastDate = '2011-09-01'\n",
    "\n",
    "# Calling Image Collection from EE catalogue \n",
    "rainfall = ee.ImageCollection('UCSB-CHG/CHIRPS/DAILY')\\\n",
    "        .filter(ee.Filter.date(firstDate, lastDate))\n",
    "print ('No of Rainfall Images: ', rainfall.size().getInfo())\n",
    "\n",
    "# Calling Feature Collection from EE Assests\n",
    "table2 = ee.FeatureCollection(\"users/sukkiisukant/bundelkhand_districts\")\n",
    "\n",
    "print ('No of Feature: ', table2.size().getInfo())\n",
    "\n",
    "dates = pd.date_range(start=firstDate,end=lastDate, closed='left')\n",
    "df = pd.DataFrame(list(zip(dates)),columns =['Dates'])\n",
    "\n",
    "def setProperty(image):\n",
    "    dict = image.reduceRegion(ee.Reducer.mean(), geom, 5000)\n",
    "    return image.set(dict)\n",
    "\n",
    "listOffeat = table2.toList(table2.size());\n",
    "\n",
    "collectionSize = listOffeat.size().getInfo()\n",
    "for i in range(collectionSize):\n",
    "    aoi = ee.Feature(listOffeat.get(i))\n",
    "    geom = aoi.geometry()\n",
    "    name = str(aoi.get('NAME_2').getInfo())\n",
    "    rainMean = rainfall.map(setProperty)\n",
    "    rain_list = (rainMean.aggregate_array('precipitation').getInfo())\n",
    "    df[name] = rain_list \n",
    "\n",
    "df = df.set_index(\"Dates\")\n",
    "print(f\"Processing time: {datetime.datetime.now()-t1}\")\n",
    "\n",
    "# Download output in CSV format\n",
    "df.to_csv(\"Zonal_sts_using_for_loop.csv\")\n",
    "\n",
    "df"
   ]
  },
  {
   "cell_type": "code",
   "execution_count": null,
   "metadata": {
    "id": "P_G-Lv-Y_27P"
   },
   "outputs": [],
   "source": [
    "#  Plotting the Data\n",
    "fig = px.line(df)\n",
    "fig.show()"
   ]
  },
  {
   "cell_type": "code",
   "execution_count": null,
   "metadata": {
    "id": "hP47UEIvEcD6"
   },
   "outputs": [],
   "source": [
    "#  Zonal Statistics without for loop\n",
    "\n",
    "t1 = datetime.datetime.now()\n",
    "\n",
    "firstDate = '2010-01-01'\n",
    "lastDate = '2012-01-01'\n",
    "\n",
    "# Calling Image Collection from EE catalogue \n",
    "rainfall = ee.ImageCollection('UCSB-CHG/CHIRPS/DAILY')\\\n",
    "        .filter(ee.Filter.date(firstDate, lastDate))\n",
    "print ('No of Rainfall Images: ', rainfall.size().getInfo())\n",
    "\n",
    "# Calling Feature Collection from EE Assests\n",
    "table2 = ee.FeatureCollection(\"users/sukkiisukant/bundelkhand_districts\")\n",
    "\n",
    "print ('No of Feature: ', table2.size().getInfo())\n",
    "\n",
    "polygons = table2\n",
    "images = rainfall\n",
    "\n",
    "def func_1(f):    \n",
    "    def func_2(i):\n",
    "        mean = i.reduceRegion(ee.Reducer.mean(), f.geometry(), 5000)\n",
    "        return f.setMulti(mean).set({'date': i.date()})    \n",
    "    return images.map(func_2) \n",
    "\n",
    "results = polygons.map(func_1)\n",
    "\n",
    "results = results.flatten()\n",
    "\n",
    "dist_list = (results.aggregate_array('NAME_2').getInfo())\n",
    "rain_list = (results.aggregate_array('precipitation').getInfo())\n",
    "\n",
    "date_list = (results.aggregate_array('date').getInfo())\n",
    "date_list = [ sub['value'] for sub in date_list] \n",
    "date_list = [datetime.datetime.fromtimestamp(x // 1000).date() for x in date_list]\n",
    "\n",
    "df = pd.DataFrame(list(zip(date_list, dist_list, rain_list)),columns =['Dates', 'Dist', 'rain'])\n",
    "df = pd.pivot_table(df, index = 'Dates', columns = 'Dist', values = 'rain', aggfunc = 'mean')\n",
    "\n",
    "print(f\"Processing time: {datetime.datetime.now()-t1}\")\n",
    "\n",
    "# Download output in CSV format\n",
    "df.to_csv(\"Zonal_sts_without_for_loop.csv\")\n",
    "\n",
    "df"
   ]
  }
 ],
 "metadata": {
  "colab": {
   "authorship_tag": "ABX9TyOUW1Pre4Pnzll1zcqmASuS",
   "include_colab_link": true,
   "name": "Zonal Statistics EE.ipynb",
   "provenance": []
  },
  "kernelspec": {
   "display_name": "Python 3",
   "language": "python",
   "name": "python3"
  },
  "language_info": {
   "codemirror_mode": {
    "name": "ipython",
    "version": 3
   },
   "file_extension": ".py",
   "mimetype": "text/x-python",
   "name": "python",
   "nbconvert_exporter": "python",
   "pygments_lexer": "ipython3",
   "version": "3.7.3"
  }
 },
 "nbformat": 4,
 "nbformat_minor": 1
}
